{
 "cells": [
  {
   "cell_type": "markdown",
   "metadata": {},
   "source": [
    "## Building the Search Engine for E-commerce Product Recommendation\n",
    "\n",
    "### Project Overview\n",
    "This notebook focuses on constructing a semantic search engine for e-commerce product recommendations, specifically for Nike products. I used product names, subtitles, and descriptions to provide a more comprehensive search experience. The steps include preprocessing, embedding computation, similarity calculation, ranking, knowledge graph integration, query expansion, and optimization.\n",
    "\n",
    "### Steps to Implement\n",
    "\n",
    "1. **Preprocess the Dataset**: Utilize name, subtitle, and description for embedding computation.\n",
    "2. **Compute Embeddings**: Use SBERT to generate embeddings for a concatenated string of name, subtitle, and description.\n",
    "3. **Calculate Cosine Similarity**: Compare the embeddings to find relevant products.\n",
    "4. **Rank Products**: Sort results based on similarity scores.\n",
    "5. **Knowledge Graph Integration**: Use Neo4j to enhance search capabilities.\n",
    "6. **Query Expansion**: Allow users to expand their search terms.\n",
    "7. **Optimization**: Implement caching for embeddings to improve speed.\n",
    "\n",
    "### Why SBERT?\n",
    "SBERT is chosen for its ability to produce dense vector representations that capture semantic similarity across different text fields, which is beneficial for our multi-field approach.\n",
    "\n",
    "### Why Neo4j for Knowledge Graph?\n",
    "Neo4j efficiently manages relationships, which can be extended to include product names, subtitles, and descriptions, providing a richer context for search.\n"
   ]
  },
  {
   "cell_type": "markdown",
   "metadata": {},
   "source": [
    "### Step 1: Preprocess the Dataset"
   ]
  },
  {
   "cell_type": "code",
   "execution_count": 1,
   "metadata": {},
   "outputs": [],
   "source": [
    "import pandas as pd\n",
    "from sklearn.preprocessing import StandardScaler\n",
    "\n",
    "# Load the cleaned dataset\n",
    "data = pd.read_csv('../data/semantic_search_ready_data.csv')\n",
    "\n",
    "# Combine name, sub_title, and description for embedding\n",
    "data['combined_text'] = data['name'] + ' ' + data['sub_title'] + ' ' + data['description']\n",
    "data['combined_text'] = data['combined_text'].fillna('') "
   ]
  },
  {
   "cell_type": "code",
   "execution_count": 2,
   "metadata": {},
   "outputs": [
    {
     "data": {
      "text/html": [
       "<div>\n",
       "<style scoped>\n",
       "    .dataframe tbody tr th:only-of-type {\n",
       "        vertical-align: middle;\n",
       "    }\n",
       "\n",
       "    .dataframe tbody tr th {\n",
       "        vertical-align: top;\n",
       "    }\n",
       "\n",
       "    .dataframe thead th {\n",
       "        text-align: right;\n",
       "    }\n",
       "</style>\n",
       "<table border=\"1\" class=\"dataframe\">\n",
       "  <thead>\n",
       "    <tr style=\"text-align: right;\">\n",
       "      <th></th>\n",
       "      <th>name</th>\n",
       "      <th>sub_title</th>\n",
       "      <th>color</th>\n",
       "      <th>price</th>\n",
       "      <th>description</th>\n",
       "      <th>avg_rating</th>\n",
       "      <th>review_count</th>\n",
       "      <th>parsed_sizes</th>\n",
       "      <th>dominant_color</th>\n",
       "      <th>combined_text</th>\n",
       "    </tr>\n",
       "  </thead>\n",
       "  <tbody>\n",
       "    <tr>\n",
       "      <th>0</th>\n",
       "      <td>nike dri-fit team (mlb minnesota twins)</td>\n",
       "      <td>men's long-sleeve t-shirt</td>\n",
       "      <td>Navy</td>\n",
       "      <td>40.00</td>\n",
       "      <td>sweat-wicking comfort.the nike dri-fit team (m...</td>\n",
       "      <td>4.773913</td>\n",
       "      <td>0.0</td>\n",
       "      <td>['S', 'M', 'L', 'XL', '2XL']</td>\n",
       "      <td>Navy</td>\n",
       "      <td>nike dri-fit team (mlb minnesota twins) men's ...</td>\n",
       "    </tr>\n",
       "    <tr>\n",
       "      <th>1</th>\n",
       "      <td>club américa</td>\n",
       "      <td>women's nike dri-fit soccer jersey dress</td>\n",
       "      <td>Black/Black</td>\n",
       "      <td>90.00</td>\n",
       "      <td>inspired by traditional soccer jerseys, the cl...</td>\n",
       "      <td>5.000000</td>\n",
       "      <td>1.0</td>\n",
       "      <td>['L (12–14)']</td>\n",
       "      <td>Black</td>\n",
       "      <td>club américa women's nike dri-fit soccer jerse...</td>\n",
       "    </tr>\n",
       "    <tr>\n",
       "      <th>2</th>\n",
       "      <td>nike sportswear swoosh</td>\n",
       "      <td>men's overalls</td>\n",
       "      <td>Black/White</td>\n",
       "      <td>140.00</td>\n",
       "      <td>working hard to keep you comfortable.the nike ...</td>\n",
       "      <td>4.900000</td>\n",
       "      <td>11.0</td>\n",
       "      <td>[]</td>\n",
       "      <td>Black</td>\n",
       "      <td>nike sportswear swoosh men's overalls working ...</td>\n",
       "    </tr>\n",
       "    <tr>\n",
       "      <th>3</th>\n",
       "      <td>nike dri-fit one luxe</td>\n",
       "      <td>big kids' (girls') printed tights (extended size)</td>\n",
       "      <td>Black/Rush Pink</td>\n",
       "      <td>22.97</td>\n",
       "      <td>elevated comfort goes full bloom.the nike dri-...</td>\n",
       "      <td>4.773913</td>\n",
       "      <td>0.0</td>\n",
       "      <td>[]</td>\n",
       "      <td>Black</td>\n",
       "      <td>nike dri-fit one luxe big kids' (girls') print...</td>\n",
       "    </tr>\n",
       "    <tr>\n",
       "      <th>4</th>\n",
       "      <td>paris saint-germain repel academy awf</td>\n",
       "      <td>big kids' soccer jacket</td>\n",
       "      <td>Dark Grey/Black/Siren Red/Siren Red</td>\n",
       "      <td>70.00</td>\n",
       "      <td>water-repellent coverage gets psg details.the ...</td>\n",
       "      <td>4.773913</td>\n",
       "      <td>0.0</td>\n",
       "      <td>['XS', 'S', 'M', 'L', 'XL']</td>\n",
       "      <td>Dark Grey</td>\n",
       "      <td>paris saint-germain repel academy awf big kids...</td>\n",
       "    </tr>\n",
       "  </tbody>\n",
       "</table>\n",
       "</div>"
      ],
      "text/plain": [
       "                                      name  \\\n",
       "0  nike dri-fit team (mlb minnesota twins)   \n",
       "1                             club américa   \n",
       "2                   nike sportswear swoosh   \n",
       "3                    nike dri-fit one luxe   \n",
       "4    paris saint-germain repel academy awf   \n",
       "\n",
       "                                           sub_title  \\\n",
       "0                          men's long-sleeve t-shirt   \n",
       "1           women's nike dri-fit soccer jersey dress   \n",
       "2                                     men's overalls   \n",
       "3  big kids' (girls') printed tights (extended size)   \n",
       "4                            big kids' soccer jacket   \n",
       "\n",
       "                                 color   price  \\\n",
       "0                                 Navy   40.00   \n",
       "1                          Black/Black   90.00   \n",
       "2                          Black/White  140.00   \n",
       "3                      Black/Rush Pink   22.97   \n",
       "4  Dark Grey/Black/Siren Red/Siren Red   70.00   \n",
       "\n",
       "                                         description  avg_rating  \\\n",
       "0  sweat-wicking comfort.the nike dri-fit team (m...    4.773913   \n",
       "1  inspired by traditional soccer jerseys, the cl...    5.000000   \n",
       "2  working hard to keep you comfortable.the nike ...    4.900000   \n",
       "3  elevated comfort goes full bloom.the nike dri-...    4.773913   \n",
       "4  water-repellent coverage gets psg details.the ...    4.773913   \n",
       "\n",
       "   review_count                  parsed_sizes dominant_color  \\\n",
       "0           0.0  ['S', 'M', 'L', 'XL', '2XL']           Navy   \n",
       "1           1.0                 ['L (12–14)']          Black   \n",
       "2          11.0                            []          Black   \n",
       "3           0.0                            []          Black   \n",
       "4           0.0   ['XS', 'S', 'M', 'L', 'XL']      Dark Grey   \n",
       "\n",
       "                                       combined_text  \n",
       "0  nike dri-fit team (mlb minnesota twins) men's ...  \n",
       "1  club américa women's nike dri-fit soccer jerse...  \n",
       "2  nike sportswear swoosh men's overalls working ...  \n",
       "3  nike dri-fit one luxe big kids' (girls') print...  \n",
       "4  paris saint-germain repel academy awf big kids...  "
      ]
     },
     "execution_count": 2,
     "metadata": {},
     "output_type": "execute_result"
    }
   ],
   "source": [
    "data.head()"
   ]
  },
  {
   "cell_type": "markdown",
   "metadata": {},
   "source": [
    "### Step 2: Compute Embeddings"
   ]
  },
  {
   "cell_type": "code",
   "execution_count": 3,
   "metadata": {},
   "outputs": [
    {
     "name": "stderr",
     "output_type": "stream",
     "text": [
      "c:\\Users\\USER\\Documents\\iCogLabs\\Semantic_search_nike\\myenv\\Lib\\site-packages\\tqdm\\auto.py:21: TqdmWarning: IProgress not found. Please update jupyter and ipywidgets. See https://ipywidgets.readthedocs.io/en/stable/user_install.html\n",
      "  from .autonotebook import tqdm as notebook_tqdm\n"
     ]
    }
   ],
   "source": [
    "from sentence_transformers import SentenceTransformer\n",
    "\n",
    "# Initialize SBERT model\n",
    "model = SentenceTransformer('paraphrase-MiniLM-L6-v2')\n",
    "\n",
    "# Compute embeddings for combined text (name + sub_title + description)\n",
    "data['embedding'] = data['combined_text'].apply(lambda x: model.encode(x))\n",
    "\n",
    "# Save embeddings \n",
    "data.to_csv('../data/semantic_search_with_embeddings.csv', index=False)"
   ]
  },
  {
   "cell_type": "markdown",
   "metadata": {},
   "source": [
    "### Step 3: Calculate Cosine Similarity"
   ]
  },
  {
   "cell_type": "code",
   "execution_count": 4,
   "metadata": {},
   "outputs": [],
   "source": [
    "from sklearn.metrics.pairwise import cosine_similarity\n",
    "import numpy as np\n",
    "\n",
    "def search(query, data):\n",
    "    # Compute embedding for the query\n",
    "    query_embedding = model.encode(query)\n",
    "    \n",
    "    # Compute cosine similarity between query embedding and all product embeddings\n",
    "    similarities = cosine_similarity([query_embedding], list(data['embedding']))\n",
    "    \n",
    "    # Get the indices of the top 5 similar products\n",
    "    top_indices = np.argsort(similarities[0])[-5:][::-1]\n",
    "    \n",
    "    return top_indices, similarities[0][top_indices]"
   ]
  }
 ],
 "metadata": {
  "kernelspec": {
   "display_name": "myenv",
   "language": "python",
   "name": "python3"
  },
  "language_info": {
   "codemirror_mode": {
    "name": "ipython",
    "version": 3
   },
   "file_extension": ".py",
   "mimetype": "text/x-python",
   "name": "python",
   "nbconvert_exporter": "python",
   "pygments_lexer": "ipython3",
   "version": "3.11.2"
  }
 },
 "nbformat": 4,
 "nbformat_minor": 2
}
