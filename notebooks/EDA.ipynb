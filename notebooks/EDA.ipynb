{
 "cells": [
  {
   "cell_type": "markdown",
   "metadata": {},
   "source": [
    "#### Purpose of the Notebook:\n",
    "- To explore the cleaned dataset for insights that could enhance the semantic search functionality.\n",
    "- To visualize data distributions and relationships that can inform feature selection and model tuning.\n",
    "\n",
    "#### Goal:\n",
    "- Understand data distribution and quality.\n",
    "- Identify patterns or trends in product attributes that might influence search relevance.\n",
    "- Assess how different attributes correlate with each other, potentially guiding the semantic search algorithm.\n",
    "\n",
    "#### Insights Looking For:\n",
    "- Distribution of prices, ratings, and colors.\n",
    "- Relationship between product descriptions and categories to ensure semantic relevance.\n",
    "- Size availability patterns which might affect user queries.\n"
   ]
  },
  {
   "cell_type": "code",
   "execution_count": 1,
   "metadata": {},
   "outputs": [],
   "source": [
    "# Import necessary libraries\n",
    "import pandas as pd\n",
    "import matplotlib.pyplot as plt\n",
    "import seaborn as sns\n",
    "from wordcloud import WordCloud\n",
    "import nltk\n",
    "from nltk.corpus import stopwords"
   ]
  }
 ],
 "metadata": {
  "kernelspec": {
   "display_name": "myenv",
   "language": "python",
   "name": "python3"
  },
  "language_info": {
   "codemirror_mode": {
    "name": "ipython",
    "version": 3
   },
   "file_extension": ".py",
   "mimetype": "text/x-python",
   "name": "python",
   "nbconvert_exporter": "python",
   "pygments_lexer": "ipython3",
   "version": "3.11.2"
  }
 },
 "nbformat": 4,
 "nbformat_minor": 2
}
