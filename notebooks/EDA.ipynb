{
 "cells": [
  {
   "cell_type": "markdown",
   "metadata": {},
   "source": [
    "#### Purpose of the Notebook:\n",
    "- To explore the cleaned dataset for insights that could enhance the semantic search functionality.\n",
    "- To visualize data distributions and relationships that can inform feature selection and model tuning.\n",
    "\n",
    "#### Goal:\n",
    "- Understand data distribution and quality.\n",
    "- Identify patterns or trends in product attributes that might influence search relevance.\n",
    "- Assess how different attributes correlate with each other, potentially guiding the semantic search algorithm.\n",
    "\n",
    "#### Insights Looking For:\n",
    "- Distribution of prices, ratings, and colors.\n",
    "- Relationship between product descriptions and categories to ensure semantic relevance.\n",
    "- Size availability patterns which might affect user queries.\n"
   ]
  },
  {
   "cell_type": "code",
   "execution_count": 1,
   "metadata": {},
   "outputs": [],
   "source": [
    "# Import necessary libraries\n",
    "import pandas as pd\n",
    "import matplotlib.pyplot as plt\n",
    "import seaborn as sns\n",
    "from wordcloud import WordCloud\n",
    "import nltk\n",
    "from nltk.corpus import stopwords"
   ]
  },
  {
   "cell_type": "code",
   "execution_count": 3,
   "metadata": {},
   "outputs": [
    {
     "name": "stdout",
     "output_type": "stream",
     "text": [
      "<class 'pandas.core.frame.DataFrame'>\n",
      "RangeIndex: 112 entries, 0 to 111\n",
      "Data columns (total 9 columns):\n",
      " #   Column          Non-Null Count  Dtype  \n",
      "---  ------          --------------  -----  \n",
      " 0   name            112 non-null    object \n",
      " 1   sub_title       112 non-null    object \n",
      " 2   color           112 non-null    object \n",
      " 3   price           112 non-null    float64\n",
      " 4   description     112 non-null    object \n",
      " 5   avg_rating      112 non-null    float64\n",
      " 6   review_count    112 non-null    float64\n",
      " 7   parsed_sizes    112 non-null    object \n",
      " 8   dominant_color  112 non-null    object \n",
      "dtypes: float64(3), object(6)\n",
      "memory usage: 8.0+ KB\n",
      "None\n"
     ]
    },
    {
     "name": "stderr",
     "output_type": "stream",
     "text": [
      "[nltk_data] Downloading package stopwords to\n",
      "[nltk_data]     C:\\Users\\USER\\AppData\\Roaming\\nltk_data...\n",
      "[nltk_data]   Package stopwords is already up-to-date!\n"
     ]
    }
   ],
   "source": [
    "# Download necessary NLTK data\n",
    "nltk.download('stopwords')\n",
    "\n",
    "# Load the cleaned dataset\n",
    "df = pd.read_csv('../data/semantic_search_ready_data.csv')\n",
    "\n",
    "# Basic dataset info\n",
    "print(df.info())"
   ]
  }
 ],
 "metadata": {
  "kernelspec": {
   "display_name": "myenv",
   "language": "python",
   "name": "python3"
  },
  "language_info": {
   "codemirror_mode": {
    "name": "ipython",
    "version": 3
   },
   "file_extension": ".py",
   "mimetype": "text/x-python",
   "name": "python",
   "nbconvert_exporter": "python",
   "pygments_lexer": "ipython3",
   "version": "3.11.2"
  }
 },
 "nbformat": 4,
 "nbformat_minor": 2
}
