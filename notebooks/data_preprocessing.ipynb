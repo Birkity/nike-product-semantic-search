{
 "cells": [
  {
   "cell_type": "markdown",
   "metadata": {},
   "source": [
    "## Data Preprocessing"
   ]
  },
  {
   "cell_type": "markdown",
   "metadata": {},
   "source": [
    "### Project Overview"
   ]
  },
  {
   "cell_type": "markdown",
   "metadata": {},
   "source": [
    "- This notebook is part of a project aimed at building an AI-powered semantic search tool for Nike products. \n",
    "- The goal is to leverage natural language processing techniques to enable intuitive and accurate product recommendations from a dataset of Nike products."
   ]
  },
  {
   "cell_type": "markdown",
   "metadata": {},
   "source": [
    "### Why This Dataset?\n",
    "I selected this dataset because:\n",
    "- It contains detailed product information, including titles, descriptions, reviews, prices, and availability, which are essential for building a semantic search engine.\n",
    "- It includes structured and semi-structured data that allow for feature extraction and preprocessing to support natural language processing (NLP) tasks.\n",
    "- The dataset provides real-world e-commerce data, making it applicable for developing a practical recommendation system.\n"
   ]
  },
  {
   "cell_type": "markdown",
   "metadata": {},
   "source": [
    "### What Needs to Be Done\n",
    "1. Clean and preprocess textual data to make it usable for NLP tasks.\n",
    "2. Handle missing values in critical fields like names and prices.\n",
    "3. Extract meaningful information from raw HTML descriptions.\n",
    "4. Parse and structure size data to enhance filtering capabilities.\n",
    "5. Save the cleaned and preprocessed data for use in subsequent stages of the project."
   ]
  },
  {
   "cell_type": "code",
   "execution_count": 58,
   "metadata": {},
   "outputs": [],
   "source": [
    "import pandas as pd\n",
    "import numpy as np\n",
    "from bs4 import BeautifulSoup\n",
    "import re"
   ]
  },
  {
   "cell_type": "code",
   "execution_count": 59,
   "metadata": {},
   "outputs": [],
   "source": [
    "# Load the dataset\n",
    "data = pd.read_csv('../data/nike_data_2022_09.csv')"
   ]
  },
  {
   "cell_type": "code",
   "execution_count": 60,
   "metadata": {},
   "outputs": [
    {
     "data": {
      "text/html": [
       "<div>\n",
       "<style scoped>\n",
       "    .dataframe tbody tr th:only-of-type {\n",
       "        vertical-align: middle;\n",
       "    }\n",
       "\n",
       "    .dataframe tbody tr th {\n",
       "        vertical-align: top;\n",
       "    }\n",
       "\n",
       "    .dataframe thead th {\n",
       "        text-align: right;\n",
       "    }\n",
       "</style>\n",
       "<table border=\"1\" class=\"dataframe\">\n",
       "  <thead>\n",
       "    <tr style=\"text-align: right;\">\n",
       "      <th></th>\n",
       "      <th>index</th>\n",
       "      <th>url</th>\n",
       "      <th>name</th>\n",
       "      <th>sub_title</th>\n",
       "      <th>brand</th>\n",
       "      <th>model</th>\n",
       "      <th>color</th>\n",
       "      <th>price</th>\n",
       "      <th>currency</th>\n",
       "      <th>availability</th>\n",
       "      <th>description</th>\n",
       "      <th>raw_description</th>\n",
       "      <th>avg_rating</th>\n",
       "      <th>review_count</th>\n",
       "      <th>images</th>\n",
       "      <th>available_sizes</th>\n",
       "      <th>uniq_id</th>\n",
       "      <th>scraped_at</th>\n",
       "    </tr>\n",
       "  </thead>\n",
       "  <tbody>\n",
       "    <tr>\n",
       "      <th>0</th>\n",
       "      <td>0</td>\n",
       "      <td>https://www.nike.com/t/dri-fit-team-minnesota-...</td>\n",
       "      <td>Nike Dri-FIT Team (MLB Minnesota Twins)</td>\n",
       "      <td>Men's Long-Sleeve T-Shirt</td>\n",
       "      <td>Nike</td>\n",
       "      <td>14226571</td>\n",
       "      <td>Navy</td>\n",
       "      <td>40.00</td>\n",
       "      <td>USD</td>\n",
       "      <td>InStock</td>\n",
       "      <td>SWEAT-WICKING COMFORT.The Nike Dri-FIT Team (M...</td>\n",
       "      <td>&lt;div class=\"pi-pdpmainbody\"&gt;&lt;p&gt;&lt;b class=\"headl...</td>\n",
       "      <td>NaN</td>\n",
       "      <td>NaN</td>\n",
       "      <td>https://static.nike.com/a/images/t_PDP_1280_v1...</td>\n",
       "      <td>S | M | L | XL | 2XL</td>\n",
       "      <td>c3229e54-aa58-5fdd-9f71-fbe66366b2b2</td>\n",
       "      <td>20/09/2022 23:32:28</td>\n",
       "    </tr>\n",
       "    <tr>\n",
       "      <th>1</th>\n",
       "      <td>1</td>\n",
       "      <td>https://www.nike.com/t/club-américa-womens-dri...</td>\n",
       "      <td>Club América</td>\n",
       "      <td>Women's Nike Dri-FIT Soccer Jersey Dress</td>\n",
       "      <td>Nike</td>\n",
       "      <td>13814665</td>\n",
       "      <td>Black/Black</td>\n",
       "      <td>90.00</td>\n",
       "      <td>USD</td>\n",
       "      <td>InStock</td>\n",
       "      <td>Inspired by traditional soccer jerseys, the Cl...</td>\n",
       "      <td>&lt;div class=\"pi-pdpmainbody\"&gt;&lt;br/&gt;&lt;p&gt;Inspired b...</td>\n",
       "      <td>5.0</td>\n",
       "      <td>1.0</td>\n",
       "      <td>https://static.nike.com/a/images/t_PDP_1280_v1...</td>\n",
       "      <td>L (12–14)</td>\n",
       "      <td>f8ebb2ed-17ae-5719-b750-5ea3ec69b75c</td>\n",
       "      <td>20/09/2022 23:32:40</td>\n",
       "    </tr>\n",
       "    <tr>\n",
       "      <th>2</th>\n",
       "      <td>2</td>\n",
       "      <td>https://www.nike.com/t/sportswear-swoosh-mens-...</td>\n",
       "      <td>Nike Sportswear Swoosh</td>\n",
       "      <td>Men's Overalls</td>\n",
       "      <td>Nike</td>\n",
       "      <td>13015648</td>\n",
       "      <td>Black/White</td>\n",
       "      <td>140.00</td>\n",
       "      <td>USD</td>\n",
       "      <td>OutOfStock</td>\n",
       "      <td>WORKING HARD TO KEEP YOU COMFORTABLE.The Nike ...</td>\n",
       "      <td>&lt;div class=\"pi-pdpmainbody\"&gt;&lt;p&gt;&lt;b class=\"headl...</td>\n",
       "      <td>4.9</td>\n",
       "      <td>11.0</td>\n",
       "      <td>https://static.nike.com/a/images/t_PDP_1280_v1...</td>\n",
       "      <td>NaN</td>\n",
       "      <td>88120081-e6cb-5399-b9dc-a2d3d5dd5206</td>\n",
       "      <td>20/09/2022 23:33:16</td>\n",
       "    </tr>\n",
       "    <tr>\n",
       "      <th>3</th>\n",
       "      <td>3</td>\n",
       "      <td>https://www.nike.com/t/dri-fit-one-luxe-big-ki...</td>\n",
       "      <td>Nike Dri-FIT One Luxe</td>\n",
       "      <td>Big Kids' (Girls') Printed Tights (Extended Size)</td>\n",
       "      <td>Nike</td>\n",
       "      <td>13809796</td>\n",
       "      <td>Black/Rush Pink</td>\n",
       "      <td>22.97</td>\n",
       "      <td>USD</td>\n",
       "      <td>OutOfStock</td>\n",
       "      <td>ELEVATED COMFORT GOES FULL BLOOM.The Nike Dri-...</td>\n",
       "      <td>&lt;div class=\"pi-pdpmainbody\"&gt;&lt;p&gt;&lt;b class=\"headl...</td>\n",
       "      <td>NaN</td>\n",
       "      <td>NaN</td>\n",
       "      <td>https://static.nike.com/a/images/t_PDP_1280_v1...</td>\n",
       "      <td>NaN</td>\n",
       "      <td>98348cc5-1520-5b6e-a5f6-c42547b6a092</td>\n",
       "      <td>20/09/2022 23:33:17</td>\n",
       "    </tr>\n",
       "    <tr>\n",
       "      <th>4</th>\n",
       "      <td>4</td>\n",
       "      <td>https://www.nike.com/t/paris-saint-germain-rep...</td>\n",
       "      <td>Paris Saint-Germain Repel Academy AWF</td>\n",
       "      <td>Big Kids' Soccer Jacket</td>\n",
       "      <td>Nike</td>\n",
       "      <td>13327415</td>\n",
       "      <td>Dark Grey/Black/Siren Red/Siren Red</td>\n",
       "      <td>70.00</td>\n",
       "      <td>USD</td>\n",
       "      <td>InStock</td>\n",
       "      <td>WATER-REPELLENT COVERAGE GETS PSG DETAILS.The ...</td>\n",
       "      <td>&lt;div class=\"pi-pdpmainbody\"&gt;&lt;p&gt;&lt;b class=\"headl...</td>\n",
       "      <td>NaN</td>\n",
       "      <td>NaN</td>\n",
       "      <td>https://static.nike.com/a/images/t_PDP_1280_v1...</td>\n",
       "      <td>XS | S | M | L | XL</td>\n",
       "      <td>f15981a5-d8c9-53fa-880d-80606be188fe</td>\n",
       "      <td>20/09/2022 23:33:22</td>\n",
       "    </tr>\n",
       "  </tbody>\n",
       "</table>\n",
       "</div>"
      ],
      "text/plain": [
       "   index                                                url  \\\n",
       "0      0  https://www.nike.com/t/dri-fit-team-minnesota-...   \n",
       "1      1  https://www.nike.com/t/club-américa-womens-dri...   \n",
       "2      2  https://www.nike.com/t/sportswear-swoosh-mens-...   \n",
       "3      3  https://www.nike.com/t/dri-fit-one-luxe-big-ki...   \n",
       "4      4  https://www.nike.com/t/paris-saint-germain-rep...   \n",
       "\n",
       "                                      name  \\\n",
       "0  Nike Dri-FIT Team (MLB Minnesota Twins)   \n",
       "1                             Club América   \n",
       "2                   Nike Sportswear Swoosh   \n",
       "3                    Nike Dri-FIT One Luxe   \n",
       "4    Paris Saint-Germain Repel Academy AWF   \n",
       "\n",
       "                                           sub_title brand     model  \\\n",
       "0                          Men's Long-Sleeve T-Shirt  Nike  14226571   \n",
       "1           Women's Nike Dri-FIT Soccer Jersey Dress  Nike  13814665   \n",
       "2                                     Men's Overalls  Nike  13015648   \n",
       "3  Big Kids' (Girls') Printed Tights (Extended Size)  Nike  13809796   \n",
       "4                            Big Kids' Soccer Jacket  Nike  13327415   \n",
       "\n",
       "                                 color   price currency availability  \\\n",
       "0                                 Navy   40.00      USD      InStock   \n",
       "1                          Black/Black   90.00      USD      InStock   \n",
       "2                          Black/White  140.00      USD   OutOfStock   \n",
       "3                      Black/Rush Pink   22.97      USD   OutOfStock   \n",
       "4  Dark Grey/Black/Siren Red/Siren Red   70.00      USD      InStock   \n",
       "\n",
       "                                         description  \\\n",
       "0  SWEAT-WICKING COMFORT.The Nike Dri-FIT Team (M...   \n",
       "1  Inspired by traditional soccer jerseys, the Cl...   \n",
       "2  WORKING HARD TO KEEP YOU COMFORTABLE.The Nike ...   \n",
       "3  ELEVATED COMFORT GOES FULL BLOOM.The Nike Dri-...   \n",
       "4  WATER-REPELLENT COVERAGE GETS PSG DETAILS.The ...   \n",
       "\n",
       "                                     raw_description  avg_rating  \\\n",
       "0  <div class=\"pi-pdpmainbody\"><p><b class=\"headl...         NaN   \n",
       "1  <div class=\"pi-pdpmainbody\"><br/><p>Inspired b...         5.0   \n",
       "2  <div class=\"pi-pdpmainbody\"><p><b class=\"headl...         4.9   \n",
       "3  <div class=\"pi-pdpmainbody\"><p><b class=\"headl...         NaN   \n",
       "4  <div class=\"pi-pdpmainbody\"><p><b class=\"headl...         NaN   \n",
       "\n",
       "   review_count                                             images  \\\n",
       "0           NaN  https://static.nike.com/a/images/t_PDP_1280_v1...   \n",
       "1           1.0  https://static.nike.com/a/images/t_PDP_1280_v1...   \n",
       "2          11.0  https://static.nike.com/a/images/t_PDP_1280_v1...   \n",
       "3           NaN  https://static.nike.com/a/images/t_PDP_1280_v1...   \n",
       "4           NaN  https://static.nike.com/a/images/t_PDP_1280_v1...   \n",
       "\n",
       "        available_sizes                               uniq_id  \\\n",
       "0  S | M | L | XL | 2XL  c3229e54-aa58-5fdd-9f71-fbe66366b2b2   \n",
       "1             L (12–14)  f8ebb2ed-17ae-5719-b750-5ea3ec69b75c   \n",
       "2                   NaN  88120081-e6cb-5399-b9dc-a2d3d5dd5206   \n",
       "3                   NaN  98348cc5-1520-5b6e-a5f6-c42547b6a092   \n",
       "4   XS | S | M | L | XL  f15981a5-d8c9-53fa-880d-80606be188fe   \n",
       "\n",
       "            scraped_at  \n",
       "0  20/09/2022 23:32:28  \n",
       "1  20/09/2022 23:32:40  \n",
       "2  20/09/2022 23:33:16  \n",
       "3  20/09/2022 23:33:17  \n",
       "4  20/09/2022 23:33:22  "
      ]
     },
     "execution_count": 60,
     "metadata": {},
     "output_type": "execute_result"
    }
   ],
   "source": [
    "# Display the first few rows to understand the structure\n",
    "data.head()"
   ]
  },
  {
   "cell_type": "markdown",
   "metadata": {},
   "source": [
    "### Dataset Overview\n",
    "The dataset contains the following key columns:\n",
    "- `name`: Name of the product.\n",
    "- `sub_title`: A short description of the product.\n",
    "- `brand`: Brand name (Nike).\n",
    "- `color`: Product color.\n",
    "- `price`: Product price in numeric format.\n",
    "- `currency`: Currency of the price.\n",
    "- `availability`: Stock status of the product.\n",
    "- `raw_description`: Product description in HTML format.\n",
    "- `avg_rating`: Average customer rating.\n",
    "- `review_count`: Number of customer reviews.\n",
    "- `available_sizes`: Sizes available for the product.\n",
    "- `scraped_at`: Timestamp when the product data was scraped."
   ]
  },
  {
   "cell_type": "code",
   "execution_count": 61,
   "metadata": {},
   "outputs": [
    {
     "name": "stdout",
     "output_type": "stream",
     "text": [
      "Index(['index', 'url', 'name', 'sub_title', 'brand', 'model', 'color', 'price',\n",
      "       'currency', 'availability', 'description', 'raw_description',\n",
      "       'avg_rating', 'review_count', 'images', 'available_sizes', 'uniq_id',\n",
      "       'scraped_at'],\n",
      "      dtype='object')\n",
      "<class 'pandas.core.frame.DataFrame'>\n",
      "RangeIndex: 112 entries, 0 to 111\n",
      "Data columns (total 18 columns):\n",
      " #   Column           Non-Null Count  Dtype  \n",
      "---  ------           --------------  -----  \n",
      " 0   index            112 non-null    int64  \n",
      " 1   url              112 non-null    object \n",
      " 2   name             112 non-null    object \n",
      " 3   sub_title        112 non-null    object \n",
      " 4   brand            112 non-null    object \n",
      " 5   model            112 non-null    int64  \n",
      " 6   color            110 non-null    object \n",
      " 7   price            112 non-null    float64\n",
      " 8   currency         112 non-null    object \n",
      " 9   availability     108 non-null    object \n",
      " 10  description      112 non-null    object \n",
      " 11  raw_description  112 non-null    object \n",
      " 12  avg_rating       23 non-null     float64\n",
      " 13  review_count     23 non-null     float64\n",
      " 14  images           108 non-null    object \n",
      " 15  available_sizes  56 non-null     object \n",
      " 16  uniq_id          112 non-null    object \n",
      " 17  scraped_at       112 non-null    object \n",
      "dtypes: float64(3), int64(2), object(13)\n",
      "memory usage: 15.9+ KB\n",
      "None\n"
     ]
    }
   ],
   "source": [
    "print(data.columns)\n",
    "print(data.info())"
   ]
  },
  {
   "cell_type": "code",
   "execution_count": 62,
   "metadata": {},
   "outputs": [
    {
     "name": "stdout",
     "output_type": "stream",
     "text": [
      "Missing values per column:\n",
      " index               0\n",
      "url                 0\n",
      "name                0\n",
      "sub_title           0\n",
      "brand               0\n",
      "model               0\n",
      "color               2\n",
      "price               0\n",
      "currency            0\n",
      "availability        4\n",
      "description         0\n",
      "raw_description     0\n",
      "avg_rating         89\n",
      "review_count       89\n",
      "images              4\n",
      "available_sizes    56\n",
      "uniq_id             0\n",
      "scraped_at          0\n",
      "dtype: int64\n"
     ]
    }
   ],
   "source": [
    "# Step 1: Handling Missing Values\n",
    "# Identify columns with missing values\n",
    "missing_values = data.isnull().sum()\n",
    "print(\"Missing values per column:\\n\", missing_values)"
   ]
  },
  {
   "cell_type": "code",
   "execution_count": 63,
   "metadata": {},
   "outputs": [],
   "source": [
    "# Fill missing numeric values (avg_rating, review_count) with mean\n",
    "data['avg_rating'] = data['avg_rating'].fillna(data['avg_rating'].mean())\n",
    "data['review_count'] = data['review_count'].fillna(0)"
   ]
  },
  {
   "cell_type": "code",
   "execution_count": 64,
   "metadata": {},
   "outputs": [],
   "source": [
    "# Fill missing `color` and `availability` values with placeholders\n",
    "data['color'] = data['color'].fillna('unknown')\n",
    "data['availability'] = data['availability'].fillna('unknown')"
   ]
  },
  {
   "cell_type": "code",
   "execution_count": 65,
   "metadata": {},
   "outputs": [],
   "source": [
    "# Step 2: Drop Unnecessary Columns\n",
    "data = data.drop(columns=['url', 'index', 'images', 'scraped_at'])"
   ]
  },
  {
   "cell_type": "code",
   "execution_count": null,
   "metadata": {},
   "outputs": [],
   "source": []
  }
 ],
 "metadata": {
  "kernelspec": {
   "display_name": "myenv",
   "language": "python",
   "name": "python3"
  },
  "language_info": {
   "codemirror_mode": {
    "name": "ipython",
    "version": 3
   },
   "file_extension": ".py",
   "mimetype": "text/x-python",
   "name": "python",
   "nbconvert_exporter": "python",
   "pygments_lexer": "ipython3",
   "version": "3.11.2"
  }
 },
 "nbformat": 4,
 "nbformat_minor": 2
}
