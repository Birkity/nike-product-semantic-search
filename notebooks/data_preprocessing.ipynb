{
 "cells": [
  {
   "cell_type": "markdown",
   "metadata": {},
   "source": [
    "## Data Preprocessing"
   ]
  },
  {
   "cell_type": "markdown",
   "metadata": {},
   "source": [
    "### Project Overview"
   ]
  },
  {
   "cell_type": "markdown",
   "metadata": {},
   "source": [
    "- This notebook is part of a project aimed at building an AI-powered semantic search tool for Nike products. \n",
    "- The goal is to leverage natural language processing techniques to enable intuitive and accurate product recommendations from a dataset of Nike products."
   ]
  },
  {
   "cell_type": "markdown",
   "metadata": {},
   "source": [
    "### Why This Dataset?\n",
    "I selected this dataset because:\n",
    "- It contains detailed product information, including titles, descriptions, reviews, prices, and availability, which are essential for building a semantic search engine.\n",
    "- It includes structured and semi-structured data that allow for feature extraction and preprocessing to support natural language processing (NLP) tasks.\n",
    "- The dataset provides real-world e-commerce data, making it applicable for developing a practical recommendation system.\n"
   ]
  }
 ],
 "metadata": {
  "kernelspec": {
   "display_name": "myenv",
   "language": "python",
   "name": "python3"
  },
  "language_info": {
   "codemirror_mode": {
    "name": "ipython",
    "version": 3
   },
   "file_extension": ".py",
   "mimetype": "text/x-python",
   "name": "python",
   "nbconvert_exporter": "python",
   "pygments_lexer": "ipython3",
   "version": "3.11.2"
  }
 },
 "nbformat": 4,
 "nbformat_minor": 2
}
